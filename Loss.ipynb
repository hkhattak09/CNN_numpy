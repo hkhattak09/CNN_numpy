{
 "cells": [
  {
   "cell_type": "markdown",
   "id": "d06d187f",
   "metadata": {},
   "source": [
    "# Cross entropy loss."
   ]
  },
  {
   "cell_type": "code",
   "execution_count": 1,
   "id": "0b968106",
   "metadata": {},
   "outputs": [],
   "source": [
    "import numpy as np"
   ]
  },
  {
   "cell_type": "code",
   "execution_count": 2,
   "id": "cb42de05",
   "metadata": {},
   "outputs": [],
   "source": [
    "class CEloss():\n",
    "    def __init__(self,eps=1e-8):\n",
    "        self.eps = eps\n",
    "    \n",
    "    def CalLoss(self,y_true,y_pred):\n",
    "        y_pred = np.clip(y_pred, self.eps, 1.0 - self.eps)\n",
    "        row_wiseSummed = np.sum(y_true*np.log(y_pred),axis=1)\n",
    "        loss = -np.mean(row_wiseSummed)\n",
    "        return loss\n",
    "    \n",
    "    def backward(self,y_true,y_pred):\n",
    "        y_pred = np.clip(y_pred, self.eps, 1.0 - self.eps)\n",
    "        batch_size = y_true.shape[0]\n",
    "        grad = -y_true / (y_pred * batch_size)\n",
    "        return grad"
   ]
  }
 ],
 "metadata": {
  "kernelspec": {
   "display_name": "base",
   "language": "python",
   "name": "python3"
  },
  "language_info": {
   "codemirror_mode": {
    "name": "ipython",
    "version": 3
   },
   "file_extension": ".py",
   "mimetype": "text/x-python",
   "name": "python",
   "nbconvert_exporter": "python",
   "pygments_lexer": "ipython3",
   "version": "3.12.7"
  }
 },
 "nbformat": 4,
 "nbformat_minor": 5
}
