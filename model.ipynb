{
 "cells": [
  {
   "cell_type": "markdown",
   "id": "fbac30a3",
   "metadata": {},
   "source": [
    "# Implementing CNN"
   ]
  },
  {
   "cell_type": "code",
   "execution_count": 1,
   "id": "df350704",
   "metadata": {},
   "outputs": [],
   "source": [
    "import numpy as np\n",
    "from activations import ReLU,Sigmoid,Tanh,Softmax\n",
    "from layers import Linear,Conv2d,Flatten\n",
    "from loss import CEloss\n",
    "from utils import load_dataset,plot_confusion_matrix,plot_history,plot_predictions,compute_accuracy"
   ]
  },
  {
   "cell_type": "code",
   "execution_count": 2,
   "id": "7189397a",
   "metadata": {},
   "outputs": [],
   "source": [
    "class Model():\n",
    "    def __init__(self, lr):\n",
    "        self.Conv_layer1 = Conv2d(1,3,3,1,0,lr)\n",
    "        self.relu1 = ReLU()\n",
    "        self.Conv_layer2 = Conv2d(3,8,3,2,1,lr)\n",
    "        self.relu2 = ReLU()\n",
    "        self.flatten = Flatten()\n",
    "        self.linear = Linear(72,10,lr)\n",
    "        self.softmax = Softmax()\n",
    "        self.Loss = CEloss()\n",
    "    \n",
    "    def forward(self,input):\n",
    "        x = self.Conv_layer1.forward(input)\n",
    "        x = self.relu1.forward(x)\n",
    "        x = self.Conv_layer2.forward(x)\n",
    "        x = self.relu2.forward(x)\n",
    "        x = self.flatten.forward(x)\n",
    "        x = self.linear.forward(x)\n",
    "        probs = self.softmax.forward(x)\n",
    "        return probs\n",
    "    \n",
    "    def cal_loss(self,y_true,y_pred):\n",
    "        loss = self.Loss.CalLoss(y_true,y_pred)\n",
    "        return loss\n",
    "    \n",
    "    def backward(self):\n",
    "        error_signal = self.Loss.backward()\n",
    "        error_signal = error_signal[:,np.newaxis,:]\n",
    "        jacobian = self.softmax.backward()\n",
    "        error_signal = error_signal@jacobian\n",
    "        error_signal = np.squeeze(error_signal,axis=1)\n",
    "        linear_back = self.linear.backward(error_signal)\n",
    "        flatten_back = self.flatten.backwards(linear_back)\n",
    "        relu2_back = self.relu2.backward()\n",
    "        error_signal = flatten_back*relu2_back\n",
    "        error_back = self.Conv_layer2.backward(error_signal)\n",
    "        relu1_back = self.relu1.backward()\n",
    "        error_signal = relu1_back*error_back\n",
    "        error_bacl1 = self.Conv_layer1.backward(error_signal)\n",
    "    \n",
    "    def predict(self,input):\n",
    "        probs = self.forward(input)\n",
    "        y_hat = np.argmax(probs,axis=1,keepdims=True)\n",
    "        return y_hat\n",
    "\n"
   ]
  },
  {
   "cell_type": "code",
   "execution_count": 3,
   "id": "add7c9c5",
   "metadata": {},
   "outputs": [
    {
     "name": "stdout",
     "output_type": "stream",
     "text": [
      "(1437, 1, 8, 8)\n",
      "(1437, 10)\n"
     ]
    }
   ],
   "source": [
    "x_train, x_test, y_train, y_test = load_dataset()\n",
    "print(x_train.shape)\n",
    "print(y_train.shape)"
   ]
  },
  {
   "cell_type": "markdown",
   "id": "848678d9",
   "metadata": {},
   "source": [
    "## Training"
   ]
  },
  {
   "cell_type": "code",
   "execution_count": 4,
   "id": "5494fd0b",
   "metadata": {},
   "outputs": [],
   "source": [
    "def make_batches(x,y,batch_size):\n",
    "    idxs_len = x.shape[0]\n",
    "    idx = np.arange(idxs_len)\n",
    "    batches = int(np.floor(idxs_len/batch_size))\n",
    "    np.random.shuffle(idx)\n",
    "    x_batches = []\n",
    "    y_batches = []\n",
    "    for i in range(batches):\n",
    "        x_batch = x[idx[i*batch_size:i*batch_size+batch_size]]\n",
    "        y_batch = y[idx[i*batch_size:i*batch_size+batch_size]]\n",
    "        x_batches.append(x_batch)\n",
    "        y_batches.append(y_batch)\n",
    "    return x_batches,y_batches\n"
   ]
  },
  {
   "cell_type": "code",
   "execution_count": 5,
   "id": "4606d84a",
   "metadata": {},
   "outputs": [
    {
     "name": "stdout",
     "output_type": "stream",
     "text": [
      "epoch0 loss = 2.2906060980160103, acc = 0.1299715909090909\n",
      "epoch5 loss = 2.243941206002452, acc = 0.3125\n",
      "epoch10 loss = 2.187549021290837, acc = 0.4453125\n",
      "epoch15 loss = 2.124840596395885, acc = 0.5958806818181818\n",
      "epoch20 loss = 2.048215030252202, acc = 0.7038352272727273\n",
      "epoch25 loss = 1.9535462573088416, acc = 0.703125\n",
      "epoch30 loss = 1.834741256753695, acc = 0.7393465909090909\n",
      "epoch35 loss = 1.6871902764145146, acc = 0.7578125\n",
      "epoch40 loss = 1.518203835937915, acc = 0.8046875\n",
      "epoch45 loss = 1.3287236804586795, acc = 0.8181818181818182\n",
      "epoch50 loss = 1.149641282644597, acc = 0.8309659090909091\n",
      "epoch55 loss = 0.9825015943941611, acc = 0.8451704545454546\n",
      "epoch60 loss = 0.8407842812096589, acc = 0.8607954545454546\n",
      "epoch65 loss = 0.7390878211740375, acc = 0.8629261363636364\n",
      "epoch70 loss = 0.6447633617609394, acc = 0.8714488636363636\n",
      "epoch75 loss = 0.5724917299209058, acc = 0.8778409090909091\n",
      "epoch80 loss = 0.5290738467426784, acc = 0.8842329545454546\n",
      "epoch85 loss = 0.48152268816618443, acc = 0.8920454545454546\n",
      "epoch90 loss = 0.4466446989845998, acc = 0.8955965909090909\n",
      "epoch95 loss = 0.41186574386909736, acc = 0.8955965909090909\n",
      "Traning loss plot saved at /Users/hassan/repos/CNN_numpy/figures/training_loss.png\n"
     ]
    }
   ],
   "source": [
    "history = []\n",
    "accuracy_history = []\n",
    "model = Model(lr=0.1)\n",
    "def Train(model,x_train,y_train,epochs,batch_size=32):\n",
    "    for epoch in range(epochs):\n",
    "        x_batches,y_batches = make_batches(x_train,y_train,batch_size)\n",
    "        no_batchs = len(x_batches)\n",
    "        epoch_loss = 0\n",
    "        epoch_acc = 0\n",
    "        for x_batch,y_batch in zip(x_batches,y_batches):\n",
    "            probs = model.forward(x_batch)\n",
    "            loss = model.cal_loss(y_batch,probs)\n",
    "            epoch_loss = epoch_loss + loss\n",
    "            predictions = model.predict(x_batch)\n",
    "            accuracy = compute_accuracy(predictions,y_batch)\n",
    "            epoch_acc = epoch_acc+accuracy\n",
    "            model.backward()\n",
    "        epoch_loss = epoch_loss/no_batchs\n",
    "        epoch_acc = epoch_acc/no_batchs\n",
    "        if epoch%5==0:\n",
    "            print(f'epoch{epoch} loss = {epoch_loss}, acc = {epoch_acc}')\n",
    "        history.append(epoch_loss)\n",
    "        accuracy_history.append(epoch_acc)\n",
    "\n",
    "Train(model,x_train,y_train,100)\n",
    "plot_history(history)"
   ]
  },
  {
   "cell_type": "code",
   "execution_count": 6,
   "id": "a16378ac",
   "metadata": {},
   "outputs": [
    {
     "name": "stdout",
     "output_type": "stream",
     "text": [
      "Prediction plot saved at /Users/hassan/repos/CNN_numpy/figures/predictions.png\n",
      "Confusion Matrix plot saved at /Users/hassan/repos/CNN_numpy/figures/confusion_matrix.png\n"
     ]
    },
    {
     "data": {
      "image/png": "[encoded data removed]",
      "text/plain": [
       "<Figure size 640x480 with 2 Axes>"
      ]
     },
     "metadata": {},
     "output_type": "display_data"
    }
   ],
   "source": [
    "predictions = model.predict(x_test)\n",
    "acc = compute_accuracy(predictions,y_test)\n",
    "plot_predictions(x_test,predictions,acc)\n",
    "plot_confusion_matrix(y_test,predictions)"
   ]
  }
 ],
 "metadata": {
  "kernelspec": {
   "display_name": "base",
   "language": "python",
   "name": "python3"
  },
  "language_info": {
   "codemirror_mode": {
    "name": "ipython",
    "version": 3
   },
   "file_extension": ".py",
   "mimetype": "text/x-python",
   "name": "python",
   "nbconvert_exporter": "python",
   "pygments_lexer": "ipython3",
   "version": "3.12.7"
  }
 },
 "nbformat": 4,
 "nbformat_minor": 5
}
